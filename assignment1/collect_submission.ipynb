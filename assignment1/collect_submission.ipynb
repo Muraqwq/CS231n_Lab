{
 "cells": [
  {
   "cell_type": "code",
   "execution_count": null,
   "id": "c1fc9627",
   "metadata": {},
   "outputs": [],
   "source": [
    "# from google.colab import drive\n",
    "\n",
    "# drive.mount('/content/drive')\n",
    "\n",
    "# # TODO: Enter the path in your Drive of the assignment.\n",
    "# # e.g. 'cs231n/assignments/assignment1/'\n",
    "# FOLDERNAME = None\n",
    "\n",
    "# assert FOLDERNAME is not None, \"[!] Enter the foldername.\""
   ]
  },
  {
   "cell_type": "markdown",
   "id": "23ef1446",
   "metadata": {},
   "source": [
    "# Collect Submission - Zip + Generate PDF \n",
    "\n",
    "Run this notebook once you have completed all the other notebooks: `knn.ipynb`, `svm.ipynb`, `softmax.ipynb`, `two_layer_net.ipynb` and `features.ipynb`).\n",
    "\n",
    "It will:\n",
    "\n",
    "* Generate a zip file of your code (`.py` and `.ipynb`) called `a1_code_submission.zip`.\n",
    "* Convert all notebooks into a single PDF file called `a1_inline_submission.pdf`.\n",
    "\n",
    "If your submission for this step was successful, you should see the following display message:\n",
    "\n",
    "`### Done! Please submit a1_code_submission.zip and a1_inline_submission.pdf to Gradescope. ###`\n",
    "\n",
    "Make sure to download the zip and pdf file locally to your computer, then submit to Gradescope. Congrats on succesfully completing the assignment!"
   ]
  },
  {
   "cell_type": "code",
   "execution_count": 5,
   "id": "3059162b",
   "metadata": {},
   "outputs": [
    {
     "name": "stdout",
     "output_type": "stream",
     "text": [
      "### Zipping file ###\n",
      "### Creating PDFs ###\n",
      "Created PDF knn.ipynb.\n",
      "Created PDF svm.ipynb.\n",
      "Created PDF softmax.ipynb.\n",
      "Created PDF two_layer_net.ipynb.\n",
      "Created PDF features.ipynb.\n",
      "Traceback (most recent call last):\n",
      "  File \"/home/mura/Documents/CS231n_Lab/assignment1/makepdf.py\", line 45, in <module>\n",
      "    main(args.notebooks, args.pdf_filename)\n",
      "  File \"/home/mura/Documents/CS231n_Lab/assignment1/makepdf.py\", line 31, in main\n",
      "    merger.append(pdf)\n",
      "  File \"/home/mura/miniconda3/envs/cs231n/lib/python3.12/site-packages/PyPDF2/_utils.py\", line 389, in wrapper\n",
      "    return func(*args, **kwargs)\n",
      "           ^^^^^^^^^^^^^^^^^^^^^\n",
      "  File \"/home/mura/miniconda3/envs/cs231n/lib/python3.12/site-packages/PyPDF2/_merger.py\", line 283, in append\n",
      "    self.merge(len(self.pages), fileobj, outline_item, pages, import_outline)\n",
      "  File \"/home/mura/miniconda3/envs/cs231n/lib/python3.12/site-packages/PyPDF2/_utils.py\", line 389, in wrapper\n",
      "    return func(*args, **kwargs)\n",
      "           ^^^^^^^^^^^^^^^^^^^^^\n",
      "  File \"/home/mura/miniconda3/envs/cs231n/lib/python3.12/site-packages/PyPDF2/_merger.py\", line 163, in merge\n",
      "    stream, encryption_obj = self._create_stream(fileobj)\n",
      "                             ^^^^^^^^^^^^^^^^^^^^^^^^^^^^\n",
      "  File \"/home/mura/miniconda3/envs/cs231n/lib/python3.12/site-packages/PyPDF2/_merger.py\", line 230, in _create_stream\n",
      "    stream = FileIO(fileobj, \"rb\")\n",
      "             ^^^^^^^^^^^^^^^^^^^^^\n",
      "FileNotFoundError: [Errno 2] No such file or directory: 'knn.pdf'\n"
     ]
    }
   ],
   "source": [
    "# %cd drive/My\\ Drive\n",
    "# %cd $FOLDERNAME\n",
    "# !sudo apt-get install texlive-xetex texlive-fonts-recommended texlive-plain-generic\n",
    "# %conda install PyPDF2\n",
    "!bash collectSubmission.sh"
   ]
  }
 ],
 "metadata": {
  "kernelspec": {
   "display_name": "cs231n",
   "language": "python",
   "name": "python3"
  },
  "language_info": {
   "codemirror_mode": {
    "name": "ipython",
    "version": 3
   },
   "file_extension": ".py",
   "mimetype": "text/x-python",
   "name": "python",
   "nbconvert_exporter": "python",
   "pygments_lexer": "ipython3",
   "version": "3.12.3"
  }
 },
 "nbformat": 4,
 "nbformat_minor": 5
}
