{
 "cells": [
  {
   "cell_type": "code",
   "execution_count": null,
   "id": "d8aaae81",
   "metadata": {},
   "outputs": [],
   "source": [
    "# # This mounts your Google Drive to the Colab VM.\n",
    "# from google.colab import drive\n",
    "# drive.mount('/content/drive')\n",
    "\n",
    "# # TODO: Enter the foldername in your Drive where you have saved the unzipped\n",
    "# # assignment folder, e.g. 'cs231n/assignments/assignment1/'\n",
    "# FOLDERNAME = None\n",
    "# assert FOLDERNAME is not None, \"[!] Enter the foldername.\"\n",
    "\n",
    "# # Now that we've mounted your Drive, this ensures that\n",
    "# # the Python interpreter of the Colab VM can load\n",
    "# # python files from within it.\n",
    "# import sys\n",
    "# sys.path.append('/content/drive/My Drive/{}'.format(FOLDERNAME))\n",
    "\n",
    "# # This downloads the CIFAR-10 dataset to your Drive\n",
    "# # if it doesn't already exist.\n",
    "# %cd /content/drive/My\\ Drive/$FOLDERNAME/cs231n/datasets/\n",
    "# !bash get_datasets.sh\n",
    "# %cd /content/drive/My\\ Drive/$FOLDERNAME"
   ]
  },
  {
   "cell_type": "markdown",
   "id": "e2c3cfa1",
   "metadata": {
    "tags": [
     "pdf-title"
    ]
   },
   "source": [
    "# Softmax exercise\n",
    "\n",
    "*Complete and hand in this completed worksheet (including its outputs and any supporting code outside of the worksheet) with your assignment submission. For more details see the [assignments page](http://vision.stanford.edu/teaching/cs231n/assignments.html) on the course website.*\n",
    "\n",
    "This exercise is analogous to the SVM exercise. You will:\n",
    "\n",
    "- implement a fully-vectorized **loss function** for the Softmax classifier\n",
    "- implement the fully-vectorized expression for its **analytic gradient**\n",
    "- **check your implementation** with numerical gradient\n",
    "- use a validation set to **tune the learning rate and regularization** strength\n",
    "- **optimize** the loss function with **SGD**\n",
    "- **visualize** the final learned weights\n"
   ]
  },
  {
   "cell_type": "code",
   "execution_count": 1,
   "id": "c55a72bf",
   "metadata": {
    "tags": [
     "pdf-ignore"
    ]
   },
   "outputs": [],
   "source": [
    "import random\n",
    "import numpy as np\n",
    "from cs231n.data_utils import load_CIFAR10\n",
    "import matplotlib.pyplot as plt\n",
    "\n",
    "%matplotlib inline\n",
    "plt.rcParams['figure.figsize'] = (10.0, 8.0) # set default size of plots\n",
    "plt.rcParams['image.interpolation'] = 'nearest'\n",
    "plt.rcParams['image.cmap'] = 'gray'\n",
    "\n",
    "# for auto-reloading extenrnal modules\n",
    "# see http://stackoverflow.com/questions/1907993/autoreload-of-modules-in-ipython\n",
    "%load_ext autoreload\n",
    "%autoreload 2"
   ]
  },
  {
   "cell_type": "code",
   "execution_count": 2,
   "id": "b99594ec",
   "metadata": {
    "tags": [
     "pdf-ignore"
    ]
   },
   "outputs": [
    {
     "name": "stdout",
     "output_type": "stream",
     "text": [
      "Train data shape:  (49000, 3073)\n",
      "Train labels shape:  (49000,)\n",
      "Validation data shape:  (1000, 3073)\n",
      "Validation labels shape:  (1000,)\n",
      "Test data shape:  (1000, 3073)\n",
      "Test labels shape:  (1000,)\n",
      "dev data shape:  (500, 3073)\n",
      "dev labels shape:  (500,)\n"
     ]
    }
   ],
   "source": [
    "def get_CIFAR10_data(num_training=49000, num_validation=1000, num_test=1000, num_dev=500):\n",
    "    \"\"\"\n",
    "    Load the CIFAR-10 dataset from disk and perform preprocessing to prepare\n",
    "    it for the linear classifier. These are the same steps as we used for the\n",
    "    SVM, but condensed to a single function.  \n",
    "    \"\"\"\n",
    "    # Load the raw CIFAR-10 data\n",
    "    cifar10_dir = 'cs231n/datasets/cifar-10-batches-py'\n",
    "    \n",
    "    # Cleaning up variables to prevent loading data multiple times (which may cause memory issue)\n",
    "    try:\n",
    "       del X_train, y_train\n",
    "       del X_test, y_test\n",
    "       print('Clear previously loaded data.')\n",
    "    except:\n",
    "       pass\n",
    "\n",
    "    X_train, y_train, X_test, y_test = load_CIFAR10(cifar10_dir)\n",
    "    \n",
    "    # subsample the data\n",
    "    mask = list(range(num_training, num_training + num_validation))\n",
    "    X_val = X_train[mask]\n",
    "    y_val = y_train[mask]\n",
    "    mask = list(range(num_training))\n",
    "    X_train = X_train[mask]\n",
    "    y_train = y_train[mask]\n",
    "    mask = list(range(num_test))\n",
    "    X_test = X_test[mask]\n",
    "    y_test = y_test[mask]\n",
    "    mask = np.random.choice(num_training, num_dev, replace=False)\n",
    "    X_dev = X_train[mask]\n",
    "    y_dev = y_train[mask]\n",
    "    \n",
    "    # Preprocessing: reshape the image data into rows\n",
    "    X_train = np.reshape(X_train, (X_train.shape[0], -1))\n",
    "    X_val = np.reshape(X_val, (X_val.shape[0], -1))\n",
    "    X_test = np.reshape(X_test, (X_test.shape[0], -1))\n",
    "    X_dev = np.reshape(X_dev, (X_dev.shape[0], -1))\n",
    "    \n",
    "    # Normalize the data: subtract the mean image\n",
    "    mean_image = np.mean(X_train, axis = 0)\n",
    "    X_train -= mean_image\n",
    "    X_val -= mean_image\n",
    "    X_test -= mean_image\n",
    "    X_dev -= mean_image\n",
    "    \n",
    "    # add bias dimension and transform into columns\n",
    "    X_train = np.hstack([X_train, np.ones((X_train.shape[0], 1))])\n",
    "    X_val = np.hstack([X_val, np.ones((X_val.shape[0], 1))])\n",
    "    X_test = np.hstack([X_test, np.ones((X_test.shape[0], 1))])\n",
    "    X_dev = np.hstack([X_dev, np.ones((X_dev.shape[0], 1))])\n",
    "    \n",
    "    return X_train, y_train, X_val, y_val, X_test, y_test, X_dev, y_dev\n",
    "\n",
    "\n",
    "# Invoke the above function to get our data.\n",
    "X_train, y_train, X_val, y_val, X_test, y_test, X_dev, y_dev = get_CIFAR10_data()\n",
    "print('Train data shape: ', X_train.shape)\n",
    "print('Train labels shape: ', y_train.shape)\n",
    "print('Validation data shape: ', X_val.shape)\n",
    "print('Validation labels shape: ', y_val.shape)\n",
    "print('Test data shape: ', X_test.shape)\n",
    "print('Test labels shape: ', y_test.shape)\n",
    "print('dev data shape: ', X_dev.shape)\n",
    "print('dev labels shape: ', y_dev.shape)"
   ]
  },
  {
   "cell_type": "markdown",
   "id": "2713b7f4",
   "metadata": {},
   "source": [
    "## Softmax Classifier\n",
    "\n",
    "Your code for this section will all be written inside `cs231n/classifiers/softmax.py`.\n"
   ]
  },
  {
   "cell_type": "code",
   "execution_count": 3,
   "id": "6168f67e",
   "metadata": {},
   "outputs": [
    {
     "name": "stdout",
     "output_type": "stream",
     "text": [
      "loss: 2.362839\n",
      "sanity check: 2.302585\n"
     ]
    }
   ],
   "source": [
    "# First implement the naive softmax loss function with nested loops.\n",
    "# Open the file cs231n/classifiers/softmax.py and implement the\n",
    "# softmax_loss_naive function.\n",
    "\n",
    "from cs231n.classifiers.softmax import softmax_loss_naive\n",
    "import time\n",
    "\n",
    "# Generate a random softmax weight matrix and use it to compute the loss.\n",
    "W = np.random.randn(3073, 10) * 0.0001\n",
    "loss, grad = softmax_loss_naive(W, X_dev, y_dev, 0.0)\n",
    "\n",
    "# As a rough sanity check, our loss should be something close to -log(0.1).\n",
    "print('loss: %f' % loss)\n",
    "print('sanity check: %f' % (-np.log(0.1)))"
   ]
  },
  {
   "cell_type": "markdown",
   "id": "b35bc604",
   "metadata": {
    "tags": [
     "pdf-inline"
    ]
   },
   "source": [
    "**Inline Question 1**\n",
    "\n",
    "Why do we expect our loss to be close to -log(0.1)? Explain briefly.**\n",
    "\n",
    "$\\color{blue}{\\textit Your Answer:}$ *For the random samples, the probability the model can predit correctly is 1 / C, C = 10 here. The loss function is L = -log(Pcorrect_class) = -log(0.1)* \n",
    "\n"
   ]
  },
  {
   "cell_type": "code",
   "execution_count": 4,
   "id": "b7bef674",
   "metadata": {},
   "outputs": [
    {
     "name": "stdout",
     "output_type": "stream",
     "text": [
      "numerical: 3.179146 analytic: 3.179146, relative error: 2.142748e-08\n",
      "numerical: -1.042271 analytic: -1.042271, relative error: 2.725056e-08\n",
      "numerical: 1.711070 analytic: 1.711070, relative error: 5.632745e-08\n",
      "numerical: 2.719588 analytic: 2.719588, relative error: 2.261884e-08\n",
      "numerical: 0.900201 analytic: 0.900201, relative error: 1.260154e-07\n",
      "numerical: -0.769200 analytic: -0.769200, relative error: 2.925636e-09\n",
      "numerical: -1.895166 analytic: -1.895167, relative error: 3.495133e-08\n",
      "numerical: 0.684207 analytic: 0.684207, relative error: 1.780039e-09\n",
      "numerical: 1.685765 analytic: 1.685764, relative error: 2.872408e-08\n",
      "numerical: -2.465756 analytic: -2.465756, relative error: 8.745580e-09\n",
      "numerical: -3.240076 analytic: -3.240076, relative error: 9.008956e-09\n",
      "numerical: 2.509120 analytic: 2.509120, relative error: 2.213589e-08\n",
      "numerical: -2.286939 analytic: -2.286939, relative error: 5.484912e-10\n",
      "numerical: -1.010577 analytic: -1.010577, relative error: 6.001901e-08\n",
      "numerical: 0.178315 analytic: 0.178315, relative error: 3.427548e-08\n",
      "numerical: 0.432248 analytic: 0.432247, relative error: 5.554691e-08\n",
      "numerical: 2.524105 analytic: 2.524105, relative error: 3.081732e-08\n",
      "numerical: -0.292172 analytic: -0.292172, relative error: 1.076826e-07\n",
      "numerical: 1.458470 analytic: 1.458470, relative error: 2.396090e-08\n",
      "numerical: -4.915526 analytic: -4.915526, relative error: 1.110774e-08\n"
     ]
    }
   ],
   "source": [
    "# Complete the implementation of softmax_loss_naive and implement a (naive)\n",
    "# version of the gradient that uses nested loops.\n",
    "loss, grad = softmax_loss_naive(W, X_dev, y_dev, 0.0)\n",
    "\n",
    "# As we did for the SVM, use numeric gradient checking as a debugging tool.\n",
    "# The numeric gradient should be close to the analytic gradient.\n",
    "from cs231n.gradient_check import grad_check_sparse\n",
    "f = lambda w: softmax_loss_naive(w, X_dev, y_dev, 0.0)[0]\n",
    "grad_numerical = grad_check_sparse(f, W, grad, 10)\n",
    "\n",
    "# similar to SVM case, do another gradient check with regularization\n",
    "loss, grad = softmax_loss_naive(W, X_dev, y_dev, 5e1)\n",
    "f = lambda w: softmax_loss_naive(w, X_dev, y_dev, 5e1)[0]\n",
    "grad_numerical = grad_check_sparse(f, W, grad, 10)"
   ]
  },
  {
   "cell_type": "code",
   "execution_count": 5,
   "id": "3994f8a3",
   "metadata": {},
   "outputs": [
    {
     "name": "stdout",
     "output_type": "stream",
     "text": [
      "naive loss: 2.362839e+00 computed in 0.002653s\n",
      "vectorized loss: 2.362839e+00 computed in 0.002195s\n",
      "Loss difference: 0.000000\n",
      "Gradient difference: 0.000000\n"
     ]
    }
   ],
   "source": [
    "# Now that we have a naive implementation of the softmax loss function and its gradient,\n",
    "# implement a vectorized version in softmax_loss_vectorized.\n",
    "# The two versions should compute the same results, but the vectorized version should be\n",
    "# much faster.\n",
    "tic = time.time()\n",
    "loss_naive, grad_naive = softmax_loss_naive(W, X_dev, y_dev, 0.000005)\n",
    "toc = time.time()\n",
    "print('naive loss: %e computed in %fs' % (loss_naive, toc - tic))\n",
    "\n",
    "from cs231n.classifiers.softmax import softmax_loss_vectorized\n",
    "tic = time.time()\n",
    "loss_vectorized, grad_vectorized = softmax_loss_vectorized(W, X_dev, y_dev, 0.000005)\n",
    "toc = time.time()\n",
    "print('vectorized loss: %e computed in %fs' % (loss_vectorized, toc - tic))\n",
    "\n",
    "# As we did for the SVM, we use the Frobenius norm to compare the two versions\n",
    "# of the gradient.\n",
    "grad_difference = np.linalg.norm(grad_naive - grad_vectorized, ord='fro')\n",
    "print('Loss difference: %f' % np.abs(loss_naive - loss_vectorized))\n",
    "print('Gradient difference: %f' % grad_difference)"
   ]
  },
  {
   "cell_type": "code",
   "execution_count": 16,
   "id": "bd171311",
   "metadata": {
    "tags": [
     "code"
    ],
    "test": "tuning"
   },
   "outputs": [
    {
     "name": "stdout",
     "output_type": "stream",
     "text": [
      "lr 1.000000e-07 reg 2.500000e+04 train accuracy: 0.178429 val accuracy: 0.180000\n",
      "lr 1.000000e-07 reg 5.000000e+04 train accuracy: 0.203776 val accuracy: 0.217000\n",
      "lr 1.088534e-07 reg 2.500000e+04 train accuracy: 0.178857 val accuracy: 0.191000\n",
      "lr 1.088534e-07 reg 5.000000e+04 train accuracy: 0.224694 val accuracy: 0.225000\n",
      "lr 1.184907e-07 reg 2.500000e+04 train accuracy: 0.187286 val accuracy: 0.170000\n",
      "lr 1.184907e-07 reg 5.000000e+04 train accuracy: 0.232816 val accuracy: 0.240000\n",
      "lr 1.289812e-07 reg 2.500000e+04 train accuracy: 0.199633 val accuracy: 0.211000\n",
      "lr 1.289812e-07 reg 5.000000e+04 train accuracy: 0.237633 val accuracy: 0.266000\n",
      "lr 1.404004e-07 reg 2.500000e+04 train accuracy: 0.213102 val accuracy: 0.233000\n",
      "lr 1.404004e-07 reg 5.000000e+04 train accuracy: 0.255980 val accuracy: 0.262000\n",
      "lr 1.528307e-07 reg 2.500000e+04 train accuracy: 0.210429 val accuracy: 0.237000\n",
      "lr 1.528307e-07 reg 5.000000e+04 train accuracy: 0.273735 val accuracy: 0.291000\n",
      "lr 1.663614e-07 reg 2.500000e+04 train accuracy: 0.220776 val accuracy: 0.239000\n",
      "lr 1.663614e-07 reg 5.000000e+04 train accuracy: 0.277939 val accuracy: 0.305000\n",
      "lr 1.810901e-07 reg 2.500000e+04 train accuracy: 0.241286 val accuracy: 0.245000\n",
      "lr 1.810901e-07 reg 5.000000e+04 train accuracy: 0.289102 val accuracy: 0.303000\n",
      "lr 1.971228e-07 reg 2.500000e+04 train accuracy: 0.238837 val accuracy: 0.234000\n",
      "lr 1.971228e-07 reg 5.000000e+04 train accuracy: 0.284245 val accuracy: 0.306000\n",
      "lr 2.145749e-07 reg 2.500000e+04 train accuracy: 0.254878 val accuracy: 0.266000\n",
      "lr 2.145749e-07 reg 5.000000e+04 train accuracy: 0.292612 val accuracy: 0.315000\n",
      "lr 2.335721e-07 reg 2.500000e+04 train accuracy: 0.265469 val accuracy: 0.267000\n",
      "lr 2.335721e-07 reg 5.000000e+04 train accuracy: 0.300490 val accuracy: 0.311000\n",
      "lr 2.542513e-07 reg 2.500000e+04 train accuracy: 0.270918 val accuracy: 0.287000\n",
      "lr 2.542513e-07 reg 5.000000e+04 train accuracy: 0.297204 val accuracy: 0.312000\n",
      "lr 2.767612e-07 reg 2.500000e+04 train accuracy: 0.288837 val accuracy: 0.290000\n",
      "lr 2.767612e-07 reg 5.000000e+04 train accuracy: 0.292367 val accuracy: 0.312000\n",
      "lr 3.012641e-07 reg 2.500000e+04 train accuracy: 0.295816 val accuracy: 0.306000\n",
      "lr 3.012641e-07 reg 5.000000e+04 train accuracy: 0.312163 val accuracy: 0.333000\n",
      "lr 3.279363e-07 reg 2.500000e+04 train accuracy: 0.312551 val accuracy: 0.331000\n",
      "lr 3.279363e-07 reg 5.000000e+04 train accuracy: 0.315327 val accuracy: 0.330000\n",
      "lr 3.569699e-07 reg 2.500000e+04 train accuracy: 0.311061 val accuracy: 0.307000\n",
      "lr 3.569699e-07 reg 5.000000e+04 train accuracy: 0.312551 val accuracy: 0.329000\n",
      "lr 3.885740e-07 reg 2.500000e+04 train accuracy: 0.315837 val accuracy: 0.334000\n",
      "lr 3.885740e-07 reg 5.000000e+04 train accuracy: 0.305367 val accuracy: 0.326000\n",
      "lr 4.229761e-07 reg 2.500000e+04 train accuracy: 0.321245 val accuracy: 0.335000\n",
      "lr 4.229761e-07 reg 5.000000e+04 train accuracy: 0.291735 val accuracy: 0.311000\n",
      "lr 4.604239e-07 reg 2.500000e+04 train accuracy: 0.318204 val accuracy: 0.343000\n",
      "lr 4.604239e-07 reg 5.000000e+04 train accuracy: 0.306490 val accuracy: 0.325000\n",
      "lr 5.011872e-07 reg 2.500000e+04 train accuracy: 0.321857 val accuracy: 0.351000\n",
      "lr 5.011872e-07 reg 5.000000e+04 train accuracy: 0.302408 val accuracy: 0.318000\n",
      "best validation accuracy achieved during cross-validation: 0.351000\n"
     ]
    }
   ],
   "source": [
    "# Use the validation set to tune hyperparameters (regularization strength and\n",
    "# learning rate). You should experiment with different ranges for the learning\n",
    "# rates and regularization strengths; if you are careful you should be able to\n",
    "# get a classification accuracy of over 0.35 on the validation set.\n",
    "\n",
    "from cs231n.classifiers import Softmax\n",
    "results = {}\n",
    "best_val = -1\n",
    "best_softmax = None\n",
    "\n",
    "################################################################################\n",
    "# TODO:                                                                        #\n",
    "# Use the validation set to set the learning rate and regularization strength. #\n",
    "# This should be identical to the validation that you did for the SVM; save    #\n",
    "# the best trained softmax classifer in best_softmax.                          #\n",
    "################################################################################\n",
    "\n",
    "# Provided as a reference. You may or may not want to change these hyperparameters\n",
    "learning_rates = np.logspace(-7, -6.3, 20)\n",
    "# [1e-7, 4e-7]\n",
    "regularization_strengths = [2.5e4, 5e4]\n",
    "\n",
    "# *****START OF YOUR CODE (DO NOT DELETE/MODIFY THIS LINE)*****\n",
    "for learning_rate in learning_rates:\n",
    "    for reg in regularization_strengths:\n",
    "        my_softmax = Softmax()\n",
    "        my_softmax.train(X_train, y_train, learning_rate, reg, num_iters=150, batch_size=200, verbose=False)\n",
    "        y_train_pred = my_softmax.predict(X_train)\n",
    "        y_val_pred = my_softmax.predict(X_val)\n",
    "        train_accuracy = np.sum(y_train_pred == y_train) / np.size(y_train)\n",
    "        val_accuracy = np.sum(y_val_pred == y_val) / np.size(y_val)\n",
    "        results[(learning_rate, reg)] = (train_accuracy, val_accuracy)   \n",
    "        if val_accuracy > best_val:\n",
    "            best_val = val_accuracy\n",
    "            best_softmax = my_softmax\n",
    "# *****END OF YOUR CODE (DO NOT DELETE/MODIFY THIS LINE)*****\n",
    "    \n",
    "# Print out results.\n",
    "for lr, reg in sorted(results):\n",
    "    train_accuracy, val_accuracy = results[(lr, reg)]\n",
    "    print('lr %e reg %e train accuracy: %f val accuracy: %f' % (\n",
    "                lr, reg, train_accuracy, val_accuracy))\n",
    "    \n",
    "print('best validation accuracy achieved during cross-validation: %f' % best_val)"
   ]
  },
  {
   "cell_type": "code",
   "execution_count": 17,
   "id": "f94a8f12",
   "metadata": {
    "test": "test"
   },
   "outputs": [
    {
     "name": "stdout",
     "output_type": "stream",
     "text": [
      "softmax on raw pixels final test set accuracy: 0.345000\n"
     ]
    }
   ],
   "source": [
    "# evaluate on test set\n",
    "# Evaluate the best softmax on test set\n",
    "y_test_pred = best_softmax.predict(X_test)\n",
    "test_accuracy = np.mean(y_test == y_test_pred)\n",
    "print('softmax on raw pixels final test set accuracy: %f' % (test_accuracy, ))"
   ]
  },
  {
   "cell_type": "markdown",
   "id": "7e2112ee",
   "metadata": {
    "tags": [
     "pdf-inline"
    ]
   },
   "source": [
    "**Inline Question 2** - *True or False*\n",
    "\n",
    "Suppose the overall training loss is defined as the sum of the per-datapoint loss over all training examples. It is possible to add a new datapoint to a training set that would leave the SVM loss unchanged, but this is not the case with the Softmax classifier loss.\n",
    "\n",
    "$\\color{blue}{\\textit Your Answer:}$\n",
    "\n",
    "\n",
    "$\\color{blue}{\\textit Your Explanation:}$\n",
    "\n"
   ]
  },
  {
   "cell_type": "code",
   "execution_count": 18,
   "id": "86d86120",
   "metadata": {},
   "outputs": [
    {
     "data": {
      "image/png": "[encoded data removed]",
      "text/plain": [
       "<Figure size 1000x800 with 10 Axes>"
      ]
     },
     "metadata": {},
     "output_type": "display_data"
    }
   ],
   "source": [
    "# Visualize the learned weights for each class\n",
    "w = best_softmax.W[:-1,:] # strip out the bias\n",
    "w = w.reshape(32, 32, 3, 10)\n",
    "\n",
    "w_min, w_max = np.min(w), np.max(w)\n",
    "\n",
    "classes = ['plane', 'car', 'bird', 'cat', 'deer', 'dog', 'frog', 'horse', 'ship', 'truck']\n",
    "for i in range(10):\n",
    "    plt.subplot(2, 5, i + 1)\n",
    "    \n",
    "    # Rescale the weights to be between 0 and 255\n",
    "    wimg = 255.0 * (w[:, :, :, i].squeeze() - w_min) / (w_max - w_min)\n",
    "    plt.imshow(wimg.astype('uint8'))\n",
    "    plt.axis('off')\n",
    "    plt.title(classes[i])"
   ]
  }
 ],
 "metadata": {
  "kernelspec": {
   "display_name": "cs231n",
   "language": "python",
   "name": "python3"
  },
  "language_info": {
   "codemirror_mode": {
    "name": "ipython",
    "version": 3
   },
   "file_extension": ".py",
   "mimetype": "text/x-python",
   "name": "python",
   "nbconvert_exporter": "python",
   "pygments_lexer": "ipython3",
   "version": "3.12.3"
  }
 },
 "nbformat": 4,
 "nbformat_minor": 5
}
